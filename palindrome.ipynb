{
 "cells": [
  {
   "cell_type": "markdown",
   "metadata": {},
   "source": [
    "#### Code to check palindrome or not"
   ]
  },
  {
   "cell_type": "code",
   "execution_count": 16,
   "metadata": {},
   "outputs": [
    {
     "name": "stdout",
     "output_type": "stream",
     "text": [
      "Not a palindrome\n"
     ]
    }
   ],
   "source": [
    "str = list(input(\"Enter a string\"))\n",
    "str1 = list(reversed(str))\n",
    "if str == str1:\n",
    "    print(\"Is a palindrome.\")\n",
    "else:\n",
    "    print(\"Not a palindrome\")"
   ]
  },
  {
   "cell_type": "markdown",
   "metadata": {},
   "source": [
    "#### 2nd way to do\n"
   ]
  },
  {
   "cell_type": "code",
   "execution_count": 15,
   "metadata": {},
   "outputs": [
    {
     "name": "stdout",
     "output_type": "stream",
     "text": [
      "Is a palindrome\n"
     ]
    }
   ],
   "source": [
    "str = list(input(\"Enter a string\"))\n",
    "len_str = len(str)\n",
    "flag = True\n",
    "for i in range(1,int(len_str/2)):\n",
    "    if str[i-1] != str[-i]:\n",
    "        flag = False\n",
    "        print(\"Not a palindrome\")\n",
    "        break\n",
    "if flag == True:\n",
    "    print(\"Is a palindrome\")"
   ]
  }
 ],
 "metadata": {
  "kernelspec": {
   "display_name": "Python 3",
   "language": "python",
   "name": "python3"
  },
  "language_info": {
   "codemirror_mode": {
    "name": "ipython",
    "version": 3
   },
   "file_extension": ".py",
   "mimetype": "text/x-python",
   "name": "python",
   "nbconvert_exporter": "python",
   "pygments_lexer": "ipython3",
   "version": "3.12.0"
  }
 },
 "nbformat": 4,
 "nbformat_minor": 2
}
