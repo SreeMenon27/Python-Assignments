{
 "cells": [
  {
   "cell_type": "code",
   "execution_count": 9,
   "metadata": {},
   "outputs": [],
   "source": [
    "import os"
   ]
  },
  {
   "cell_type": "code",
   "execution_count": 10,
   "metadata": {},
   "outputs": [],
   "source": [
    "file_path = os.path.join(os.getcwd(),\"database.txt\")"
   ]
  },
  {
   "cell_type": "code",
   "execution_count": 21,
   "metadata": {},
   "outputs": [],
   "source": [
    "is_file_created = False\n",
    "user_details = {}"
   ]
  },
  {
   "cell_type": "markdown",
   "metadata": {},
   "source": [
    "#### Data Ingestion"
   ]
  },
  {
   "cell_type": "code",
   "execution_count": 13,
   "metadata": {},
   "outputs": [],
   "source": [
    "def data_ingestion(file_path):\n",
    "    global is_file_created\n",
    "    name = input(\"Enter name:\")\n",
    "    phone = input(\"Enter phone number (10 digits without space or code eg: 9789897654):\")\n",
    "    email = input(\"Enter email:\")\n",
    "    group = input(\"Enter home/office:\")\n",
    "\n",
    "\n",
    "    with open(file_path,\"a+\") as f:\n",
    "        f.write(name+\",\"+phone+\",\"+email+\",\"+group+\"\\n\")\n"
   ]
  },
  {
   "cell_type": "code",
   "execution_count": 85,
   "metadata": {},
   "outputs": [],
   "source": [
    "data_ingestion(file_path)"
   ]
  },
  {
   "cell_type": "markdown",
   "metadata": {},
   "source": [
    "#### Save User Data to Dictionary"
   ]
  },
  {
   "cell_type": "code",
   "execution_count": 114,
   "metadata": {},
   "outputs": [],
   "source": [
    "def read_contacts_to_dict(file_path):\n",
    "    global user_details\n",
    "    user_details={}\n",
    "    with open(file_path,\"r\") as f:\n",
    "        details = f.readlines()\n",
    "        for user in details:\n",
    "            user_details_split = user.split(\",\")\n",
    "            user_details[user_details_split[0]] = {\"phone\":user_details_split[1],\"email\":user_details_split[2],\"group\":user_details_split[3].split(\"\\n\")[0]}\n",
    "        print(type(user_details))\n",
    "        print(user_details)"
   ]
  },
  {
   "cell_type": "code",
   "execution_count": 123,
   "metadata": {},
   "outputs": [
    {
     "name": "stdout",
     "output_type": "stream",
     "text": [
      "<class 'dict'>\n",
      "{}\n"
     ]
    }
   ],
   "source": [
    "read_contacts_to_dict(file_path)"
   ]
  },
  {
   "cell_type": "markdown",
   "metadata": {},
   "source": [
    "#### Search Contacts by Name"
   ]
  },
  {
   "cell_type": "code",
   "execution_count": 79,
   "metadata": {},
   "outputs": [],
   "source": [
    "def search_contacts_by_name():\n",
    "    input_name = input(\"Enter name to search\")\n",
    "    flag = False\n",
    "    for name,info in user_details.items():\n",
    "        if input_name.strip().lower() in name.strip().lower():\n",
    "            flag = True\n",
    "            print(f\"Name: {name}, Email: {info[\"email\"]} ,phone : {info[\"phone\"]}, group: {info[\"group\"]}\")\n",
    "    if flag == False:\n",
    "        print(f\"{input_name} - User details not available in the database.\")\n",
    "\n"
   ]
  },
  {
   "cell_type": "code",
   "execution_count": 80,
   "metadata": {},
   "outputs": [
    {
     "name": "stdout",
     "output_type": "stream",
     "text": [
      "Name: Sreekala, Email: sree999@gmail.com ,phone : 9876543214, group: home\n",
      "Name: Sreekala Menon, Email: sk999@gmail.com ,phone : 6543219874, group: office\n"
     ]
    }
   ],
   "source": [
    "search_contacts_by_name()"
   ]
  },
  {
   "cell_type": "markdown",
   "metadata": {},
   "source": [
    "#### Search Contacts by Group"
   ]
  },
  {
   "cell_type": "code",
   "execution_count": 81,
   "metadata": {},
   "outputs": [],
   "source": [
    "def search_contacts_by_group():\n",
    "    input_option = input(\"Enter group to search - home/office?\")\n",
    "    flag = False\n",
    "    for name,info in user_details.items():\n",
    "        if input_option.strip().lower() == info[\"group\"].strip().lower():\n",
    "            flag = True\n",
    "            print(f\"Name: {name}, Email: {info[\"email\"]} ,phone : {info[\"phone\"]}, group: {info[\"group\"]}\")\n",
    "    if flag == False:\n",
    "        print(\"No contacts available with the option selected.\")"
   ]
  },
  {
   "cell_type": "code",
   "execution_count": 87,
   "metadata": {},
   "outputs": [
    {
     "name": "stdout",
     "output_type": "stream",
     "text": [
      "Name: Sreekala, Email: sree999@gmail.com ,phone : 9876543214, group: home\n",
      "Name: Monal, Email: Monal_xyz@gmail.com ,phone : 6543219871, group: home\n",
      "Name: Suzy, Email: suzy@abc.com ,phone : 6655449988, group: home\n"
     ]
    }
   ],
   "source": [
    "search_contacts_by_group()"
   ]
  },
  {
   "cell_type": "markdown",
   "metadata": {},
   "source": [
    "#### Delete Contacts"
   ]
  },
  {
   "cell_type": "code",
   "execution_count": 124,
   "metadata": {},
   "outputs": [],
   "source": [
    "def delete_contacts():\n",
    "    input_option = input(\"Enter contact phone/email to delete\").strip().lower()\n",
    "    flag = False\n",
    "    \n",
    "    # iterate over a copy of the items\n",
    "    for name, info in list(user_details.items()):\n",
    "        if input_option == info[\"phone\"].strip().lower() or input_option == info[\"email\"].strip().lower():\n",
    "            del user_details[name]\n",
    "            flag = True\n",
    "            break\n",
    "\n",
    "    # update file only once, after deletion\n",
    "    with open(file_path, \"w\") as f:\n",
    "        for name, info in user_details.items():\n",
    "            user_string = f\"{name},{info['phone']},{info['email']},{info['group']}\\n\"\n",
    "            f.write(user_string)\n",
    "\n",
    "    if flag:\n",
    "        print(\"User successfully deleted.\")\n",
    "    else:                \n",
    "        print(\"User not available for the selected option.\")\n",
    "\n"
   ]
  },
  {
   "cell_type": "code",
   "execution_count": 125,
   "metadata": {},
   "outputs": [
    {
     "name": "stdout",
     "output_type": "stream",
     "text": [
      "User not available for the selected option.\n"
     ]
    }
   ],
   "source": [
    "delete_contacts()"
   ]
  }
 ],
 "metadata": {
  "kernelspec": {
   "display_name": "Python 3",
   "language": "python",
   "name": "python3"
  },
  "language_info": {
   "codemirror_mode": {
    "name": "ipython",
    "version": 3
   },
   "file_extension": ".py",
   "mimetype": "text/x-python",
   "name": "python",
   "nbconvert_exporter": "python",
   "pygments_lexer": "ipython3",
   "version": "3.12.0"
  }
 },
 "nbformat": 4,
 "nbformat_minor": 2
}
