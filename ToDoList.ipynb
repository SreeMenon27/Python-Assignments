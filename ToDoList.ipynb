{
 "cells": [
  {
   "cell_type": "markdown",
   "metadata": {},
   "source": [
    "#### Data Ingestion - Add Data to the ToDo list"
   ]
  },
  {
   "cell_type": "code",
   "execution_count": 124,
   "metadata": {},
   "outputs": [],
   "source": [
    "import os"
   ]
  },
  {
   "cell_type": "code",
   "execution_count": 125,
   "metadata": {},
   "outputs": [],
   "source": [
    "file_path = os.path.join(os.getcwd(),\"To Do.txt\")"
   ]
  },
  {
   "cell_type": "code",
   "execution_count": 193,
   "metadata": {},
   "outputs": [],
   "source": [
    "id = 0\n",
    "tasks = []"
   ]
  },
  {
   "cell_type": "markdown",
   "metadata": {},
   "source": [
    "#### View To Do List Tasks"
   ]
  },
  {
   "cell_type": "code",
   "execution_count": 208,
   "metadata": {},
   "outputs": [],
   "source": [
    "def view_tasks():\n",
    "    if os.path.exists(file_path):\n",
    "        with open(file_path,\"r\") as f:\n",
    "            to_do = f.readlines()\n",
    "    return to_do\n"
   ]
  },
  {
   "cell_type": "code",
   "execution_count": 209,
   "metadata": {},
   "outputs": [
    {
     "data": {
      "text/plain": [
       "['1. ooo ooo\\n', '2. hgjh kjhh\\n']"
      ]
     },
     "execution_count": 209,
     "metadata": {},
     "output_type": "execute_result"
    }
   ],
   "source": [
    "view_tasks()"
   ]
  },
  {
   "cell_type": "code",
   "execution_count": 202,
   "metadata": {},
   "outputs": [],
   "source": [
    "def enter_tasks():\n",
    "    global tasks, id\n",
    "    tasks = []\n",
    "\n",
    "    to_do = view_tasks()\n",
    "    if to_do:\n",
    "        id = int(to_do[-1].split(\". \")[0])\n",
    "    task = input(\"Enter the task\")\n",
    "    id = id+1\n",
    "    with open(file_path,\"a\") as f:\n",
    "        f.write(str(id)+\". \"+task+\"\\n\")\n",
    "\n",
    "        "
   ]
  },
  {
   "cell_type": "code",
   "execution_count": 203,
   "metadata": {},
   "outputs": [
    {
     "name": "stdout",
     "output_type": "stream",
     "text": [
      "1. ooo ooo\n",
      "\n",
      "2. hgjh kjhh\n",
      "\n"
     ]
    }
   ],
   "source": [
    "enter_tasks()"
   ]
  },
  {
   "cell_type": "markdown",
   "metadata": {},
   "source": [
    "#### Remove task"
   ]
  },
  {
   "cell_type": "code",
   "execution_count": 206,
   "metadata": {},
   "outputs": [],
   "source": [
    "def remove_task():\n",
    "    to_do = view_tasks()\n",
    "    new_lst = []\n",
    "    i = 0\n",
    "    tsk_to_remove = input(\"Please enter id of task to be removed.\").strip()\n",
    "    if tsk_to_remove != \"\":\n",
    "        with open(file_path,\"w\") as f:\n",
    "            for tsk in to_do:\n",
    "                if tsk_to_remove != tsk[0]:\n",
    "                    i=i+1\n",
    "                    new_lst.append(f\"{i}. {tsk.split('. ',1)[1]}\")    \n",
    "                    f.write(f\"{i}. {tsk.split('. ',1)[1]}\")        \n",
    "        for tsk in new_lst:\n",
    "            print(tsk)     \n"
   ]
  },
  {
   "cell_type": "code",
   "execution_count": 210,
   "metadata": {},
   "outputs": [
    {
     "name": "stdout",
     "output_type": "stream",
     "text": [
      "1. hgjh kjhh\n",
      "\n"
     ]
    }
   ],
   "source": [
    "remove_task()"
   ]
  },
  {
   "cell_type": "markdown",
   "metadata": {},
   "source": [
    "#### Mark Task as Completed"
   ]
  },
  {
   "cell_type": "code",
   "execution_count": 211,
   "metadata": {},
   "outputs": [],
   "source": [
    "def mark_task_as_completed():\n",
    "    to_do = view_tasks()\n",
    "    new_lst = []\n",
    "    i = 0\n",
    "    tsk_to_complete = input(\"Please enter id of task to be mark completed.\").strip()\n",
    "    if tsk_to_complete != \"\":\n",
    "        with open(file_path,\"w\") as f:\n",
    "            for tsk in to_do:\n",
    "                if tsk_to_complete == tsk[0]:\n",
    "                    i=i+1\n",
    "                    new_lst.append(f\"{i}. {tsk.split('. ',1)[1].strip()} - Completed\\n\")    \n",
    "                    f.write(str(f\"{i}. {tsk.split('. ',1)[1].strip()} - Completed\\n\")) \n",
    "                else:\n",
    "                    i=i+1\n",
    "                    new_lst.append(f\"{i}. {tsk.split('. ',1)[1]}\")    \n",
    "                    f.write(f\"{i}. {tsk.split('. ',1)[1]}\")   \n",
    "            id=i\n",
    "        for tsk in new_lst:\n",
    "            print(tsk)  "
   ]
  },
  {
   "cell_type": "code",
   "execution_count": 212,
   "metadata": {},
   "outputs": [
    {
     "name": "stdout",
     "output_type": "stream",
     "text": [
      "1. hgjh kjhh - Completed\n",
      "\n"
     ]
    }
   ],
   "source": [
    "mark_task_as_completed()"
   ]
  }
 ],
 "metadata": {
  "kernelspec": {
   "display_name": "Python 3",
   "language": "python",
   "name": "python3"
  },
  "language_info": {
   "codemirror_mode": {
    "name": "ipython",
    "version": 3
   },
   "file_extension": ".py",
   "mimetype": "text/x-python",
   "name": "python",
   "nbconvert_exporter": "python",
   "pygments_lexer": "ipython3",
   "version": "3.12.0"
  }
 },
 "nbformat": 4,
 "nbformat_minor": 2
}
