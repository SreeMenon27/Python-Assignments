{
 "cells": [
  {
   "cell_type": "markdown",
   "metadata": {},
   "source": [
    "### Assignment 1\n",
    "#### Create a dictionary with 1o names of student data. An id list contains the attendance defaulters. Print list of names considered for attendence"
   ]
  },
  {
   "cell_type": "code",
   "execution_count": 1,
   "metadata": {},
   "outputs": [
    {
     "name": "stdout",
     "output_type": "stream",
     "text": [
      "John\n",
      "Harry\n",
      "Susan\n",
      "Alice\n",
      "Lance\n",
      "Cathy\n",
      "Danny\n"
     ]
    }
   ],
   "source": [
    "students = {\n",
    "    1 : \"John\",\n",
    "    2 : \"Harry\",\n",
    "    3 : \"Michael\",\n",
    "    4 : \"Susan\",\n",
    "    5 : \"Alice\",\n",
    "    6 : \"Roger\",\n",
    "    7 : \"Lance\",\n",
    "    8 : \"Brice\",\n",
    "    9 : \"Cathy\",\n",
    "    10 : \"Danny\"\n",
    "}\n",
    "defaulters = [3,6,8]\n",
    "for id in students:\n",
    "    if id in defaulters:\n",
    "        continue\n",
    "    print(students[id])"
   ]
  },
  {
   "cell_type": "markdown",
   "metadata": {},
   "source": []
  },
  {
   "cell_type": "markdown",
   "metadata": {},
   "source": [
    "## Assignment 2"
   ]
  },
  {
   "cell_type": "markdown",
   "metadata": {},
   "source": [
    "###    "
   ]
  },
  {
   "attachments": {
    "image.png": {
     "image/png": "[encoded data removed]"
    }
   },
   "cell_type": "markdown",
   "metadata": {},
   "source": [
    "![image.png](attachment:image.png)"
   ]
  },
  {
   "cell_type": "markdown",
   "metadata": {},
   "source": []
  },
  {
   "cell_type": "code",
   "execution_count": 2,
   "metadata": {},
   "outputs": [
    {
     "name": "stdout",
     "output_type": "stream",
     "text": [
      "     *\n",
      "    ***\n",
      "   *****\n",
      "  *******\n",
      " *********\n"
     ]
    }
   ],
   "source": [
    "rows = 5\n",
    "max = (rows-1)*2+1\n",
    "for arc in range(1,max+1,2):\n",
    "    spc = int((max-arc)/2)\n",
    "    print(spc*\" \",arc*\"*\")"
   ]
  },
  {
   "cell_type": "markdown",
   "metadata": {},
   "source": [
    "## Assignment 3"
   ]
  },
  {
   "attachments": {
    "image.png": {
     "image/png": "[encoded data removed]"
    }
   },
   "cell_type": "markdown",
   "metadata": {},
   "source": [
    "### ![image.png](attachment:image.png)"
   ]
  },
  {
   "cell_type": "code",
   "execution_count": 3,
   "metadata": {},
   "outputs": [
    {
     "name": "stdout",
     "output_type": "stream",
     "text": [
      "    *---\n",
      "   ***--\n",
      "  *****-\n",
      " *******\n"
     ]
    }
   ],
   "source": [
    "rows = 4\n",
    "max = (rows-1)*2+1\n",
    "for arc in range(1,max+1,2):\n",
    "    spc = int((max-arc)/2)\n",
    "    print(spc*\" \",arc*\"*\",end=\"\")\n",
    "    print(spc*\"-\")"
   ]
  },
  {
   "cell_type": "code",
   "execution_count": 14,
   "metadata": {},
   "outputs": [
    {
     "name": "stdout",
     "output_type": "stream",
     "text": [
      "11\n",
      "      \n",
      "_*_\n",
      "    \n",
      "_*__*__*_\n",
      "  \n",
      "_*__*__*__*__*_\n",
      "\n",
      "_*__*__*__*__*__*__*_\n"
     ]
    }
   ],
   "source": [
    "rows = 4\n",
    "max = (rows-1)*4-1\n",
    "print(max)\n",
    "for hypen in range(0,rows*2,2):\n",
    "    atrik = hypen+1\n",
    "    space = int((max - (int(hypen)+int(atrik)))/2)+1\n",
    "    #print(atrik)\n",
    "    print(space*\" \")\n",
    "    print(atrik*\"_*_\")"
   ]
  },
  {
   "cell_type": "code",
   "execution_count": 17,
   "metadata": {},
   "outputs": [
    {
     "name": "stdout",
     "output_type": "stream",
     "text": [
      "[[0, 0, 0], [0, 0, 1], [0, 0, 2], [0, 1, 0], [0, 1, 1], [0, 1, 2], [1, 0, 0], [1, 0, 1], [1, 0, 2], [1, 1, 0], [1, 1, 1], [2, 0, 0], [2, 0, 1], [2, 1, 0], [2, 1, 2]]\n"
     ]
    }
   ],
   "source": [
    "x=2\n",
    "y=1\n",
    "z=2\n",
    "n=4\n",
    "new_list = []\n",
    "for i in range(x+1):\n",
    "    for j in range(y+1):\n",
    "        for k in range(z+1):\n",
    "            if i+j+k != n:\n",
    "                new_list.append([i,j,k])\n",
    "print(new_list)\n",
    "                "
   ]
  },
  {
   "cell_type": "code",
   "execution_count": null,
   "metadata": {},
   "outputs": [],
   "source": []
  }
 ],
 "metadata": {
  "kernelspec": {
   "display_name": "Python 3",
   "language": "python",
   "name": "python3"
  },
  "language_info": {
   "codemirror_mode": {
    "name": "ipython",
    "version": 3
   },
   "file_extension": ".py",
   "mimetype": "text/x-python",
   "name": "python",
   "nbconvert_exporter": "python",
   "pygments_lexer": "ipython3",
   "version": "3.12.0"
  }
 },
 "nbformat": 4,
 "nbformat_minor": 2
}
