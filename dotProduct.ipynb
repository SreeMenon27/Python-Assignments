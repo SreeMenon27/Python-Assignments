{
 "cells": [
  {
   "cell_type": "code",
   "execution_count": 6,
   "metadata": {},
   "outputs": [
    {
     "name": "stdout",
     "output_type": "stream",
     "text": [
      "['1', '2']\n",
      "['2', '3']\n",
      "Total:  8\n"
     ]
    }
   ],
   "source": [
    "num = int(input(\"Enter the length of the lists\"))\n",
    "lst1 = list(input(f\"Enter values for the first list - {num} value/values, comma separated\").split(\",\"))\n",
    "lst2 = list(input(f\"Enter values for the first list - {num} value/values, comma separated\").split(\",\"))\n",
    "\n",
    "print(lst1)\n",
    "print(lst2)\n",
    "total = 0\n",
    "for i in range(0,num):\n",
    "    total = total + (int(lst1[i])*int(lst2[i]))\n",
    "print(\"Total: \",total)"
   ]
  }
 ],
 "metadata": {
  "kernelspec": {
   "display_name": "Python 3",
   "language": "python",
   "name": "python3"
  },
  "language_info": {
   "codemirror_mode": {
    "name": "ipython",
    "version": 3
   },
   "file_extension": ".py",
   "mimetype": "text/x-python",
   "name": "python",
   "nbconvert_exporter": "python",
   "pygments_lexer": "ipython3",
   "version": "3.12.0"
  }
 },
 "nbformat": 4,
 "nbformat_minor": 2
}
